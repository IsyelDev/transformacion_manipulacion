{
 "cells": [
  {
   "cell_type": "code",
   "execution_count": 13,
   "id": "6c268dcf",
   "metadata": {},
   "outputs": [],
   "source": [
    "import pandas as pd\n",
    "data =pd.read_json(\"../clase1/datos_hosting.json\")\n",
    "datos_normalizado = pd.json_normalize(data[\"info_inmuebles\"])"
   ]
  },
  {
   "cell_type": "code",
   "execution_count": 14,
   "id": "ef34a086",
   "metadata": {},
   "outputs": [
    {
     "data": {
      "text/plain": [
       "['evaluacion_general',\n",
       " 'experiencia_local',\n",
       " 'max_hospedes',\n",
       " 'descripcion_local',\n",
       " 'descripcion_vecindad',\n",
       " 'cantidad_baños',\n",
       " 'cantidad_cuartos',\n",
       " 'cantidad_camas',\n",
       " 'modelo_cama',\n",
       " 'comodidades',\n",
       " 'cuota_deposito',\n",
       " 'cuota_limpieza',\n",
       " 'precio']"
      ]
     },
     "execution_count": 14,
     "metadata": {},
     "output_type": "execute_result"
    }
   ],
   "source": [
    "columnas = list(datos_normalizado.columns)\n",
    "columnas"
   ]
  },
  {
   "cell_type": "code",
   "execution_count": 20,
   "id": "977cf3de",
   "metadata": {},
   "outputs": [],
   "source": [
    "datosNuevos = datos_normalizado.explode(columnas[3:])"
   ]
  },
  {
   "cell_type": "code",
   "execution_count": 21,
   "id": "d47df4a4",
   "metadata": {},
   "outputs": [
    {
     "data": {
      "text/html": [
       "<div>\n",
       "<style scoped>\n",
       "    .dataframe tbody tr th:only-of-type {\n",
       "        vertical-align: middle;\n",
       "    }\n",
       "\n",
       "    .dataframe tbody tr th {\n",
       "        vertical-align: top;\n",
       "    }\n",
       "\n",
       "    .dataframe thead th {\n",
       "        text-align: right;\n",
       "    }\n",
       "</style>\n",
       "<table border=\"1\" class=\"dataframe\">\n",
       "  <thead>\n",
       "    <tr style=\"text-align: right;\">\n",
       "      <th></th>\n",
       "      <th>evaluacion_general</th>\n",
       "      <th>experiencia_local</th>\n",
       "      <th>max_hospedes</th>\n",
       "      <th>descripcion_local</th>\n",
       "      <th>descripcion_vecindad</th>\n",
       "      <th>cantidad_baños</th>\n",
       "      <th>cantidad_cuartos</th>\n",
       "      <th>cantidad_camas</th>\n",
       "      <th>modelo_cama</th>\n",
       "      <th>comodidades</th>\n",
       "      <th>cuota_deposito</th>\n",
       "      <th>cuota_limpieza</th>\n",
       "      <th>precio</th>\n",
       "    </tr>\n",
       "  </thead>\n",
       "  <tbody>\n",
       "    <tr>\n",
       "      <th>0</th>\n",
       "      <td>10.0</td>\n",
       "      <td>--</td>\n",
       "      <td>1</td>\n",
       "      <td>This clean and comfortable one bedroom sits ri...</td>\n",
       "      <td>Lower Queen Anne is near the Seattle Center (s...</td>\n",
       "      <td>1</td>\n",
       "      <td>1</td>\n",
       "      <td>1</td>\n",
       "      <td>Real Bed</td>\n",
       "      <td>{Internet,\"Wireless Internet\",Kitchen,\"Free Pa...</td>\n",
       "      <td>$0</td>\n",
       "      <td>$0</td>\n",
       "      <td>$110.00</td>\n",
       "    </tr>\n",
       "    <tr>\n",
       "      <th>1</th>\n",
       "      <td>10.0</td>\n",
       "      <td>--</td>\n",
       "      <td>1</td>\n",
       "      <td>Our century old Upper Queen Anne house is loca...</td>\n",
       "      <td>Upper Queen Anne is a really pleasant, unique ...</td>\n",
       "      <td>1</td>\n",
       "      <td>1</td>\n",
       "      <td>1</td>\n",
       "      <td>Futon</td>\n",
       "      <td>{TV,Internet,\"Wireless Internet\",Kitchen,\"Free...</td>\n",
       "      <td>$0</td>\n",
       "      <td>$0</td>\n",
       "      <td>$45.00</td>\n",
       "    </tr>\n",
       "    <tr>\n",
       "      <th>2</th>\n",
       "      <td>10.0</td>\n",
       "      <td>--</td>\n",
       "      <td>1</td>\n",
       "      <td>Cozy room in two-bedroom apartment along the l...</td>\n",
       "      <td>The convenience of being in Seattle but on the...</td>\n",
       "      <td>1</td>\n",
       "      <td>1</td>\n",
       "      <td>1</td>\n",
       "      <td>Futon</td>\n",
       "      <td>{TV,Internet,\"Wireless Internet\",Kitchen,\"Free...</td>\n",
       "      <td>$0</td>\n",
       "      <td>$0</td>\n",
       "      <td>$55.00</td>\n",
       "    </tr>\n",
       "    <tr>\n",
       "      <th>3</th>\n",
       "      <td>10.0</td>\n",
       "      <td>--</td>\n",
       "      <td>1</td>\n",
       "      <td>Very lovely and cozy room for one. Convenientl...</td>\n",
       "      <td>Ballard is lovely, vibrant and one of the most...</td>\n",
       "      <td>1</td>\n",
       "      <td>1</td>\n",
       "      <td>1</td>\n",
       "      <td>Pull-out Sofa</td>\n",
       "      <td>{Internet,\"Wireless Internet\",Kitchen,\"Free Pa...</td>\n",
       "      <td>$0</td>\n",
       "      <td>$20.00</td>\n",
       "      <td>$52.00</td>\n",
       "    </tr>\n",
       "    <tr>\n",
       "      <th>4</th>\n",
       "      <td>10.0</td>\n",
       "      <td>--</td>\n",
       "      <td>1</td>\n",
       "      <td>The “Studio at Mibbett Hollow' is in a Beautif...</td>\n",
       "      <td>--</td>\n",
       "      <td>1</td>\n",
       "      <td>1</td>\n",
       "      <td>1</td>\n",
       "      <td>Real Bed</td>\n",
       "      <td>{\"Wireless Internet\",Kitchen,\"Free Parking on ...</td>\n",
       "      <td>$0</td>\n",
       "      <td>$15.00</td>\n",
       "      <td>$85.00</td>\n",
       "    </tr>\n",
       "  </tbody>\n",
       "</table>\n",
       "</div>"
      ],
      "text/plain": [
       "  evaluacion_general experiencia_local max_hospedes  \\\n",
       "0               10.0                --            1   \n",
       "1               10.0                --            1   \n",
       "2               10.0                --            1   \n",
       "3               10.0                --            1   \n",
       "4               10.0                --            1   \n",
       "\n",
       "                                   descripcion_local  \\\n",
       "0  This clean and comfortable one bedroom sits ri...   \n",
       "1  Our century old Upper Queen Anne house is loca...   \n",
       "2  Cozy room in two-bedroom apartment along the l...   \n",
       "3  Very lovely and cozy room for one. Convenientl...   \n",
       "4  The “Studio at Mibbett Hollow' is in a Beautif...   \n",
       "\n",
       "                                descripcion_vecindad cantidad_baños  \\\n",
       "0  Lower Queen Anne is near the Seattle Center (s...              1   \n",
       "1  Upper Queen Anne is a really pleasant, unique ...              1   \n",
       "2  The convenience of being in Seattle but on the...              1   \n",
       "3  Ballard is lovely, vibrant and one of the most...              1   \n",
       "4                                                 --              1   \n",
       "\n",
       "  cantidad_cuartos cantidad_camas    modelo_cama  \\\n",
       "0                1              1       Real Bed   \n",
       "1                1              1          Futon   \n",
       "2                1              1          Futon   \n",
       "3                1              1  Pull-out Sofa   \n",
       "4                1              1       Real Bed   \n",
       "\n",
       "                                         comodidades cuota_deposito  \\\n",
       "0  {Internet,\"Wireless Internet\",Kitchen,\"Free Pa...             $0   \n",
       "1  {TV,Internet,\"Wireless Internet\",Kitchen,\"Free...             $0   \n",
       "2  {TV,Internet,\"Wireless Internet\",Kitchen,\"Free...             $0   \n",
       "3  {Internet,\"Wireless Internet\",Kitchen,\"Free Pa...             $0   \n",
       "4  {\"Wireless Internet\",Kitchen,\"Free Parking on ...             $0   \n",
       "\n",
       "  cuota_limpieza   precio  \n",
       "0             $0  $110.00  \n",
       "1             $0   $45.00  \n",
       "2             $0   $55.00  \n",
       "3         $20.00   $52.00  \n",
       "4         $15.00   $85.00  "
      ]
     },
     "execution_count": 21,
     "metadata": {},
     "output_type": "execute_result"
    }
   ],
   "source": [
    "datosNuevos.reset_index(inplace=True,drop=True)\n",
    "datosNuevos.head()"
   ]
  },
  {
   "cell_type": "code",
   "execution_count": 23,
   "id": "ccbf4b93",
   "metadata": {},
   "outputs": [
    {
     "name": "stdout",
     "output_type": "stream",
     "text": [
      "<class 'pandas.core.frame.DataFrame'>\n",
      "RangeIndex: 3818 entries, 0 to 3817\n",
      "Data columns (total 13 columns):\n",
      " #   Column                Non-Null Count  Dtype \n",
      "---  ------                --------------  ----- \n",
      " 0   evaluacion_general    3818 non-null   object\n",
      " 1   experiencia_local     3818 non-null   object\n",
      " 2   max_hospedes          3818 non-null   object\n",
      " 3   descripcion_local     3818 non-null   object\n",
      " 4   descripcion_vecindad  3818 non-null   object\n",
      " 5   cantidad_baños        3818 non-null   object\n",
      " 6   cantidad_cuartos      3818 non-null   object\n",
      " 7   cantidad_camas        3818 non-null   object\n",
      " 8   modelo_cama           3818 non-null   object\n",
      " 9   comodidades           3818 non-null   object\n",
      " 10  cuota_deposito        3818 non-null   object\n",
      " 11  cuota_limpieza        3818 non-null   object\n",
      " 12  precio                3818 non-null   object\n",
      "dtypes: object(13)\n",
      "memory usage: 387.9+ KB\n"
     ]
    }
   ],
   "source": [
    "datosNuevos.info()"
   ]
  },
  {
   "cell_type": "markdown",
   "id": "65e0169f",
   "metadata": {},
   "source": [
    "## TEAM 2"
   ]
  },
  {
   "cell_type": "code",
   "execution_count": 26,
   "id": "ea87fa73",
   "metadata": {},
   "outputs": [],
   "source": [
    "import numpy as np"
   ]
  },
  {
   "cell_type": "code",
   "execution_count": 31,
   "id": "85b91bb8",
   "metadata": {},
   "outputs": [
    {
     "name": "stdout",
     "output_type": "stream",
     "text": [
      "<class 'pandas.core.frame.DataFrame'>\n",
      "RangeIndex: 3818 entries, 0 to 3817\n",
      "Data columns (total 13 columns):\n",
      " #   Column                Non-Null Count  Dtype \n",
      "---  ------                --------------  ----- \n",
      " 0   evaluacion_general    3818 non-null   object\n",
      " 1   experiencia_local     3818 non-null   object\n",
      " 2   max_hospedes          3818 non-null   int64 \n",
      " 3   descripcion_local     3818 non-null   object\n",
      " 4   descripcion_vecindad  3818 non-null   object\n",
      " 5   cantidad_baños        3818 non-null   object\n",
      " 6   cantidad_cuartos      3818 non-null   object\n",
      " 7   cantidad_camas        3818 non-null   object\n",
      " 8   modelo_cama           3818 non-null   object\n",
      " 9   comodidades           3818 non-null   object\n",
      " 10  cuota_deposito        3818 non-null   object\n",
      " 11  cuota_limpieza        3818 non-null   object\n",
      " 12  precio                3818 non-null   object\n",
      "dtypes: int64(1), object(12)\n",
      "memory usage: 387.9+ KB\n"
     ]
    }
   ],
   "source": [
    "datosNuevos[\"max_hospedes\"] =datosNuevos[\"max_hospedes\"].astype(np.int64)\n",
    "datosNuevos.info()"
   ]
  },
  {
   "cell_type": "code",
   "execution_count": 32,
   "id": "f58400cf",
   "metadata": {},
   "outputs": [],
   "source": [
    "lista_columnas =[\"cantidad_baños\",\"cantidad_cuartos\",\"cantidad_camas\"]"
   ]
  }
 ],
 "metadata": {
  "kernelspec": {
   "display_name": "base",
   "language": "python",
   "name": "python3"
  },
  "language_info": {
   "codemirror_mode": {
    "name": "ipython",
    "version": 3
   },
   "file_extension": ".py",
   "mimetype": "text/x-python",
   "name": "python",
   "nbconvert_exporter": "python",
   "pygments_lexer": "ipython3",
   "version": "3.12.7"
  }
 },
 "nbformat": 4,
 "nbformat_minor": 5
}
